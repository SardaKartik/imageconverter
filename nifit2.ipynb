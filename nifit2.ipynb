{
 "cells": [
  {
   "cell_type": "code",
   "execution_count": 1,
   "metadata": {},
   "outputs": [],
   "source": [
    "import os\n",
    "import nibabel as nib\n",
    "import numpy as np\n",
    "import matplotlib.pyplot as plt"
   ]
  },
  {
   "cell_type": "code",
   "execution_count": 22,
   "metadata": {},
   "outputs": [],
   "source": [
    "# Input parent folder containing all subfolders with .nii files\n",
    "input_parent_folder = r\"C:\\Users\\karti\\Downloads\\Sample_Nifti_Data\\Sample_Nifti_Data\"\n",
    "# Output folder to save all PNG files\n",
    "output_folder = r\"C:\\Users\\karti\\Downloads\\python\\output_folder2\"\n",
    "os.makedirs(output_folder, exist_ok=True)"
   ]
  },
  {
   "cell_type": "code",
   "execution_count": 23,
   "metadata": {},
   "outputs": [],
   "source": [
    "main_folder_name = os.path.basename(input_parent_folder)\n",
    "main_output_folder = os.path.join(output_folder, main_folder_name)\n",
    "os.makedirs(main_output_folder, exist_ok=True)"
   ]
  },
  {
   "cell_type": "code",
   "execution_count": 8,
   "metadata": {},
   "outputs": [],
   "source": [
    "def imagetoanotherfolder(input_parent_folder, output_folder,main_output_folder):\n",
    "    for folder_name in os.listdir(input_parent_folder):\n",
    "        folder_path = os.path.join(input_parent_folder, folder_name)\n",
    "        # Process only if it is a folder\n",
    "        if os.path.isdir(folder_path):\n",
    "            for nii_file in os.listdir(folder_path):\n",
    "                if nii_file.endswith('.nii'):\n",
    "                    # Load the NIFTI file\n",
    "                    nii_path = os.path.join(folder_path, nii_file)\n",
    "                    nii_image = nib.load(nii_path)\n",
    "                    image_data = nii_image.get_fdata()\n",
    "\n",
    "                    # Iterate over slices in the 3D image (assuming axial slices)\n",
    "                    for slice_index in range(image_data.shape[2]):\n",
    "                        slice_data = image_data[:, :, slice_index]\n",
    "                        # Define output filename and save as PNG\n",
    "\n",
    "                        output_filename = f\"{main_folder_name}_{nii_file[:-4]}_s_{slice_index}.png\"\n",
    "                        output_path = os.path.join(main_output_folder, output_filename)\n",
    "\n",
    "                        plt.imsave(output_path, slice_data, cmap='gray')\n",
    "    print(\"Conversion completed! All PNG files are saved in:\", output_folder)"
   ]
  },
  {
   "cell_type": "code",
   "execution_count": 10,
   "metadata": {},
   "outputs": [
    {
     "name": "stdout",
     "output_type": "stream",
     "text": [
      "Conversion completed! All PNG files are saved in: C:\\Users\\karti\\Downloads\\python\\output_folder2\n"
     ]
    }
   ],
   "source": [
    "imagetoanotherfolder(input_parent_folder,output_folder,main_output_folder)"
   ]
  },
  {
   "cell_type": "code",
   "execution_count": 25,
   "metadata": {},
   "outputs": [
    {
     "name": "stdout",
     "output_type": "stream",
     "text": [
      "Processing folder: C:\\Users\\karti\\Downloads\\Sample_Nifti_Data\\Sample_Nifti_Data\\NCCT-1821\\BONE\n",
      "Processing file: image.nii\n",
      "Processing folder: C:\\Users\\karti\\Downloads\\Sample_Nifti_Data\\Sample_Nifti_Data\\NCCT-1821\\BRAIN WITHOUT\n",
      "Processing file: image.nii\n",
      "Processing folder: C:\\Users\\karti\\Downloads\\Sample_Nifti_Data\\Sample_Nifti_Data\\NCCT-1821\\COR HEAD\n",
      "Processing file: image.nii\n",
      "Processing folder: C:\\Users\\karti\\Downloads\\Sample_Nifti_Data\\Sample_Nifti_Data\\NCCT-1821\\SAG HEAD\n",
      "Processing file: image.nii\n",
      "Processing folder: C:\\Users\\karti\\Downloads\\Sample_Nifti_Data\\Sample_Nifti_Data\\NCCT-1821\\THINS\n",
      "Processing file: image.nii\n",
      "Processing folder: C:\\Users\\karti\\Downloads\\Sample_Nifti_Data\\Sample_Nifti_Data\\NCCT-1822\\BONE w_o\n",
      "Processing file: image.nii\n",
      "Processing folder: C:\\Users\\karti\\Downloads\\Sample_Nifti_Data\\Sample_Nifti_Data\\NCCT-1822\\BRAIN w_o\n",
      "Processing file: image.nii\n",
      "Processing folder: C:\\Users\\karti\\Downloads\\Sample_Nifti_Data\\Sample_Nifti_Data\\NCCT-1822\\THINS w_o\n",
      "Processing file: image.nii\n",
      "Processing folder: C:\\Users\\karti\\Downloads\\Sample_Nifti_Data\\Sample_Nifti_Data\\NCCT-1823\\BONE w_o\n",
      "Processing file: image.nii\n",
      "Processing folder: C:\\Users\\karti\\Downloads\\Sample_Nifti_Data\\Sample_Nifti_Data\\NCCT-1823\\BRAIN w_o\n",
      "Processing file: image.nii\n",
      "Processing folder: C:\\Users\\karti\\Downloads\\Sample_Nifti_Data\\Sample_Nifti_Data\\NCCT-1823\\THINS w_o\n",
      "Processing file: image.nii\n",
      "Processing folder: C:\\Users\\karti\\Downloads\\Sample_Nifti_Data\\Sample_Nifti_Data\\NCCT-1824\\BONE w_o\n",
      "Processing file: image.nii\n",
      "Processing folder: C:\\Users\\karti\\Downloads\\Sample_Nifti_Data\\Sample_Nifti_Data\\NCCT-1824\\BRAIN w_o\n",
      "Processing file: image.nii\n",
      "Processing folder: C:\\Users\\karti\\Downloads\\Sample_Nifti_Data\\Sample_Nifti_Data\\NCCT-1824\\CORONAL\n",
      "Processing file: image.nii\n",
      "Processing folder: C:\\Users\\karti\\Downloads\\Sample_Nifti_Data\\Sample_Nifti_Data\\NCCT-1824\\THINS w_o\n",
      "Processing file: image.nii\n",
      "Processing folder: C:\\Users\\karti\\Downloads\\Sample_Nifti_Data\\Sample_Nifti_Data\\NCCT-1826\\BONE w_o\n",
      "Processing file: image.nii\n",
      "Processing folder: C:\\Users\\karti\\Downloads\\Sample_Nifti_Data\\Sample_Nifti_Data\\NCCT-1826\\BRAIN w_o\n",
      "Processing file: image.nii\n",
      "Processing folder: C:\\Users\\karti\\Downloads\\Sample_Nifti_Data\\Sample_Nifti_Data\\NCCT-1826\\THINS w_o\n",
      "Processing file: image.nii\n",
      "Conversion completed! All PNG files are saved in their respective folders within: C:\\Users\\karti\\Downloads\\python\\output_folder2\n"
     ]
    }
   ],
   "source": [
    "for main_folder_name in os.listdir(input_parent_folder):\n",
    "    main_folder_path = os.path.join(input_parent_folder, main_folder_name)\n",
    "\n",
    "    # Ensure it's a directory\n",
    "    if os.path.isdir(main_folder_path):\n",
    "        # Create a corresponding folder in the output folder\n",
    "        main_output_folder = os.path.join(output_folder, main_folder_name)\n",
    "        os.makedirs(main_output_folder, exist_ok=True)\n",
    "\n",
    "        # Iterate through each second-level subfolder in the main folder\n",
    "        for subfolder_name in os.listdir(main_folder_path):\n",
    "            subfolder_path = os.path.join(main_folder_path, subfolder_name)\n",
    "\n",
    "            # Check if subfolder_path is a directory\n",
    "            if os.path.isdir(subfolder_path):\n",
    "                print(f\"Processing folder: {subfolder_path}\")\n",
    "                \n",
    "                # Iterate through files in the second-level subfolder\n",
    "                for nii_file in os.listdir(subfolder_path):\n",
    "                    # Process only .nii files\n",
    "                    if nii_file.endswith('.nii'):\n",
    "                        print(\"Processing file:\", nii_file)\n",
    "                        \n",
    "                        # Load the NIFTI file\n",
    "                        nii_path = os.path.join(subfolder_path, nii_file)\n",
    "                        nii_image = nib.load(nii_path)\n",
    "                        image_data = nii_image.get_fdata()\n",
    "\n",
    "                        # Iterate over slices in the 3D image\n",
    "                        for slice_index in range(image_data.shape[2]):\n",
    "                            slice_data = image_data[:, :, slice_index]\n",
    "\n",
    "                            # Define output filename and save as PNG\n",
    "                            output_filename = f\"{main_folder_name}_{subfolder_name}_{nii_file[:-4]}_s{slice_index}.png\"\n",
    "                            output_path = os.path.join(main_output_folder, output_filename)\n",
    "\n",
    "                            # Save slice as a PNG image\n",
    "                            plt.imsave(output_path, slice_data, cmap='gray')\n",
    "\n",
    "print(\"Conversion completed! All PNG files are saved in their respective folders within:\", output_folder)"
   ]
  },
  {
   "cell_type": "code",
   "execution_count": null,
   "metadata": {},
   "outputs": [],
   "source": [
    "print(\"sanket\")"
   ]
  }
 ],
 "metadata": {
  "kernelspec": {
   "display_name": "Python 3",
   "language": "python",
   "name": "python3"
  },
  "language_info": {
   "codemirror_mode": {
    "name": "ipython",
    "version": 3
   },
   "file_extension": ".py",
   "mimetype": "text/x-python",
   "name": "python",
   "nbconvert_exporter": "python",
   "pygments_lexer": "ipython3",
   "version": "3.12.7"
  }
 },
 "nbformat": 4,
 "nbformat_minor": 2
}
